{
 "cells": [
  {
   "cell_type": "code",
   "execution_count": 2,
   "id": "00f02f30",
   "metadata": {},
   "outputs": [
    {
     "name": "stdout",
     "output_type": "stream",
     "text": [
      "\n",
      "Note: you may need to restart the kernel to use updated packages.\n"
     ]
    }
   ],
   "source": [
    "import csv\n",
    "import pytest\n"
   ]
  },
  {
   "cell_type": "raw",
   "id": "13b2b0fb",
   "metadata": {},
   "source": [
    " Q1:- how many total number of days does the flights table cover?\n",
    "\n",
    " As there are many duplicate days. because there are so many fligts on same day.\n",
    " That's why here my approach is, using built-in 'set' data structure we can store\n",
    " unique days available in the file then return the length of the set to return total number of days."
   ]
  },
  {
   "cell_type": "code",
   "execution_count": null,
   "id": "50349a7f",
   "metadata": {
    "scrolled": true
   },
   "outputs": [],
   "source": [
    "def no_of_days():\n",
    "    # we will take set to take unique values\n",
    "    # because there are many duplicate days due to this there are so many fligts on same day.\n",
    "     with open('flights.csv','r') as flights:\n",
    "         csv_dict_reader = csv.DictReader(flights)\n",
    "         unique_days = set() #set function\n",
    "         for line in csv_dict_reader:\n",
    "             dates = (line[\"year\"], line[\"month\"], line[\"day\"])\n",
    "             unique_days.add(dates)\n",
    "     return len(unique_days)\n",
    "\n",
    "\n",
    "y=no_of_days()\n",
    "print(y)"
   ]
  },
  {
   "cell_type": "raw",
   "id": "0b6de026",
   "metadata": {},
   "source": [
    " Q2:- how many departure cities (not airports) does the flights database cover?\n",
    "\n",
    " Here my approach is store all the unique departure airports in the list.\n",
    " Then loop through those and and airports database at the same time to get the cities."
   ]
  },
  {
   "cell_type": "code",
   "execution_count": null,
   "id": "52f2afd9",
   "metadata": {},
   "outputs": [],
   "source": [
    "def depature_city():\n",
    "    # we will store all the unique departure airports in the list.\n",
    "    with open('flights.csv', 'r') as flights:\n",
    "        csv_dict_reader = csv.DictReader(flights)\n",
    "        orign_list = []\n",
    "        cities = set()\n",
    "        for line in csv_dict_reader:\n",
    "            if line['origin'] not in orign_list:\n",
    "                orign_list.append(line['origin'])\n",
    "    # now using for loop we will check airports and list\n",
    "    with open('airports.csv','r') as airports:\n",
    "        airports_reader = csv.DictReader(airports)\n",
    "        for line in airports_reader:\n",
    "            for airport in orign_list:\n",
    "                if line[\"IATA_CODE\"] == airport:\n",
    "                    cities.add(line[\"CITY\"])\n",
    "    return len(cities) , cities\n",
    "t= depature_city()\n",
    "print(t[0],t[1])"
   ]
  },
  {
   "cell_type": "raw",
   "id": "ef86def9",
   "metadata": {},
   "source": [
    " Q3:- what is the relationship between flights and planes tables?\n",
    "\n",
    " Here we are getting the expected output by using List Comprehensions."
   ]
  },
  {
   "cell_type": "code",
   "execution_count": null,
   "id": "222f24f6",
   "metadata": {},
   "outputs": [],
   "source": [
    "def relations():\n",
    "    # in relations() function compare and make a list  of column that are same in 2 tables\n",
    "\n",
    "    with open('flights.csv') as flights:\n",
    "        flights_reader = csv.reader(flights)\n",
    "        # to remove the column name we are using next()\n",
    "        flights_Col = next(flights_reader)\n",
    "        with open('planes.csv') as planes:\n",
    "            planes_reader = csv.reader(planes)\n",
    "            planes_Col = next(planes_reader)\n",
    "            Common_list= [\n",
    "                  x for x in flights_Col if x in planes_Col # compare 2 tables and make list\n",
    "            ]\n",
    "    if not  Common_list:\n",
    "        return None\n",
    "    return  Common_list\n",
    "\n",
    "c=relations()\n",
    "print(c)"
   ]
  },
  {
   "cell_type": "raw",
   "id": "aec3c40d",
   "metadata": {},
   "source": [
    " Q4:- which airplane manufacturer incurred the most delays in the analysis period?\n",
    "\n",
    " Firstly we have to findout how much total delay each plane has done. delay couldn't be\n",
    " negative right, means it is arrived early or departed early which is not the delay and not a bad thing as well.\n",
    " So here I'm counting both delays.\n",
    "\n",
    " Again, to store all the plane models with its total delay, I'm using dictionaries"
   ]
  },
  {
   "cell_type": "code",
   "execution_count": null,
   "id": "4e47bd27",
   "metadata": {},
   "outputs": [],
   "source": [
    "def manufacturer_with_most_delays():\n",
    "    # In this  I have to findout how much total delay each plane is taking .\n",
    "    #delay couldn't be negative right\n",
    "    # means it is arrived before time or departed early which is not the delay and not a bad thing as well.\n",
    "\n",
    "    tailnums_with_delay_count = dict()\n",
    "    result = \"\"\n",
    "    with open('flights.csv') as flights:\n",
    "        flights_reader = csv.DictReader(flights)\n",
    "        for line in flights_reader:\n",
    "            tailnum = line[\"tailnum\"]\n",
    "\n",
    "            arr_delay = \"\".join(x for x in line[\"arr_delay\"] if x.isdigit())\n",
    "            dep_delay = \"\".join(x for x in line[\"dep_delay\"] if x.isdigit())\n",
    "             #here we are calculating delay\n",
    "\n",
    "            if line[\"tailnum\"] not in tailnums_with_delay_count:\n",
    "                if arr_delay != \"\" and dep_delay != \"\":\n",
    "                    if int(dep_delay) > 0 and int(arr_delay) > 0:\n",
    "                        tailnums_with_delay_count[tailnum] = int(arr_delay) + int(\n",
    "                            dep_delay\n",
    "                        )\n",
    "                elif dep_delay != \"\":\n",
    "                    if int(dep_delay) > 0:\n",
    "                        tailnums_with_delay_count[tailnum] = int(dep_delay)\n",
    "                elif arr_delay != \"\":\n",
    "                    if int(arr_delay) > 0:\n",
    "                        tailnums_with_delay_count[tailnum] = int(arr_delay)\n",
    "                else:\n",
    "                    line[\"tailnum\"] = 0\n",
    "\n",
    "            else:\n",
    "                if arr_delay != \"\" and dep_delay != \"\":\n",
    "                    if int(dep_delay) > 0 and int(arr_delay) > 0:\n",
    "                        tailnums_with_delay_count[tailnum] += int(arr_delay) + int(\n",
    "                            dep_delay\n",
    "                        )\n",
    "                elif dep_delay != \"\":\n",
    "                    if int(dep_delay) > 0:\n",
    "                        tailnums_with_delay_count[tailnum] += int(dep_delay)\n",
    "                elif arr_delay != \"\":\n",
    "                    if int(arr_delay) > 0:\n",
    "                        tailnums_with_delay_count[tailnum] += int(arr_delay)\n",
    "    sorted_delayed_tailnums = sorted(\n",
    "        tailnums_with_delay_count.items(), key=lambda item: item[1]\n",
    "    )\n",
    "    i = 1\n",
    "    while i < len(sorted_delayed_tailnums):\n",
    "        with open('planes.csv') as planes:\n",
    "            planes_reader = csv.DictReader(planes)\n",
    "            for line in planes_reader:\n",
    "                if line[\"tailnum\"] == sorted_delayed_tailnums[-i][0]:\n",
    "                    result = line[\"manufacturer\"]\n",
    "                    i = len(sorted_delayed_tailnums)\n",
    "        i += 1\n",
    "    return result\n",
    "\n",
    "l= manufacturer_with_most_delays()\n",
    "print(l)"
   ]
  },
  {
   "cell_type": "raw",
   "id": "5cea8daa",
   "metadata": {},
   "source": [
    " Q5:- which are the two most connected cities?\n",
    "\n",
    " Here my approach is using built-in dictionaries. By storing the connected airports as a tuple in the dictionary with its count,\n",
    " After sorting the dictionary we'll get the most connected airports. Which would be last key value pair.\n",
    " Then we can simply lookup the values in airports database."
   ]
  },
  {
   "cell_type": "code",
   "execution_count": null,
   "id": "4efab0d2",
   "metadata": {},
   "outputs": [],
   "source": [
    "def two_most_connected_cities():\n",
    "    #I m  using built-in dictionaries.\n",
    "    # By storing the connected airports as a tuple in the dictionary with its count.\n",
    "\n",
    "    with open('flights.csv') as flights:\n",
    "        connected_airports_frequency = dict()\n",
    "        flights_reader = csv.DictReader(flights)\n",
    "        #After sorting the dictionary I will get the most connected airports.\n",
    "        # Which would be last key value pair.\n",
    "        for line in flights_reader:\n",
    "            if (line[\"origin\"], line[\"dest\"]) not in connected_airports_frequency:\n",
    "                connected_airports_frequency[(line[\"origin\"], line[\"dest\"])] = 1\n",
    "            connected_airports_frequency[(line[\"origin\"], line[\"dest\"])] += 1\n",
    "        most_connected_airports = sorted(\n",
    "            connected_airports_frequency.items(), key=lambda item: item[1]\n",
    "        )[-1]\n",
    "    two_most_connected_cities = []\n",
    "    #then we wll see the values of airport in our database.\n",
    "    with open('airports.csv') as airports:\n",
    "        airports_reader = csv.DictReader(airports)\n",
    "        for line in airports_reader:\n",
    "            for airport in most_connected_airports[0]:\n",
    "                if airport == line[\"IATA_CODE\"]:\n",
    "                    two_most_connected_cities.append(line[\"CITY\"])\n",
    "    return two_most_connected_cities\n",
    "\n",
    "m= two_most_connected_cities()\n",
    "print(m)"
   ]
  }
 ],
 "metadata": {
  "kernelspec": {
   "display_name": "Python 3",
   "language": "python",
   "name": "python3"
  },
  "language_info": {
   "codemirror_mode": {
    "name": "ipython",
    "version": 3
   },
   "file_extension": ".py",
   "mimetype": "text/x-python",
   "name": "python",
   "nbconvert_exporter": "python",
   "pygments_lexer": "ipython3",
   "version": "3.8.8"
  }
 },
 "nbformat": 4,
 "nbformat_minor": 5
}
